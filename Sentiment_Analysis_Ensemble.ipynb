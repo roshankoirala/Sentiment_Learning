{
 "cells": [
  {
   "cell_type": "markdown",
   "metadata": {},
   "source": [
    "# Introduction"
   ]
  },
  {
   "cell_type": "code",
   "execution_count": 1,
   "metadata": {},
   "outputs": [],
   "source": [
    "import re\n",
    "import numpy as np\n",
    "import pandas as pd\n",
    "import matplotlib.pyplot as plt \n",
    "\n",
    "from nltk.corpus import stopwords\n",
    "from nltk.stem import SnowballStemmer"
   ]
  },
  {
   "cell_type": "code",
   "execution_count": 2,
   "metadata": {},
   "outputs": [
    {
     "data": {
      "text/plain": [
       "4    800000\n",
       "0    800000\n",
       "Name: sentiment, dtype: int64"
      ]
     },
     "execution_count": 2,
     "metadata": {},
     "output_type": "execute_result"
    }
   ],
   "source": [
    "col_names = ['sentiment', 'ids', 'date', 'flag', 'user', 'text']\n",
    "col_taken = ['sentiment', 'text']\n",
    "\n",
    "df = pd.read_csv('Twit_sentiment.csv', encoding='ISO-8859-1', names=col_names, usecols=col_taken)\n",
    "\n",
    "df['sentiment'].value_counts()"
   ]
  },
  {
   "cell_type": "code",
   "execution_count": 3,
   "metadata": {},
   "outputs": [],
   "source": [
    "sample_size = 10000\n",
    "df1 = pd.concat([df.head(sample_size), df.tail(sample_size)])"
   ]
  },
  {
   "cell_type": "markdown",
   "metadata": {},
   "source": [
    "# Normalize the sentiment into 0 and 1 (Not 4)\n",
    "\n",
    "This might helps in computation where squaring 4 and adding 16 each time might be costly than the adding 1. "
   ]
  },
  {
   "cell_type": "code",
   "execution_count": 4,
   "metadata": {},
   "outputs": [],
   "source": [
    "df1['sentiment'] = df1['sentiment']/4"
   ]
  },
  {
   "cell_type": "code",
   "execution_count": 5,
   "metadata": {},
   "outputs": [
    {
     "data": {
      "text/html": [
       "<div>\n",
       "<style scoped>\n",
       "    .dataframe tbody tr th:only-of-type {\n",
       "        vertical-align: middle;\n",
       "    }\n",
       "\n",
       "    .dataframe tbody tr th {\n",
       "        vertical-align: top;\n",
       "    }\n",
       "\n",
       "    .dataframe thead th {\n",
       "        text-align: right;\n",
       "    }\n",
       "</style>\n",
       "<table border=\"1\" class=\"dataframe\">\n",
       "  <thead>\n",
       "    <tr style=\"text-align: right;\">\n",
       "      <th></th>\n",
       "      <th>sentiment</th>\n",
       "      <th>text</th>\n",
       "    </tr>\n",
       "  </thead>\n",
       "  <tbody>\n",
       "    <tr>\n",
       "      <th>1599995</th>\n",
       "      <td>1.0</td>\n",
       "      <td>Just woke up. Having no school is the best fee...</td>\n",
       "    </tr>\n",
       "    <tr>\n",
       "      <th>1599996</th>\n",
       "      <td>1.0</td>\n",
       "      <td>TheWDB.com - Very cool to hear old Walt interv...</td>\n",
       "    </tr>\n",
       "    <tr>\n",
       "      <th>1599997</th>\n",
       "      <td>1.0</td>\n",
       "      <td>Are you ready for your MoJo Makeover? Ask me f...</td>\n",
       "    </tr>\n",
       "    <tr>\n",
       "      <th>1599998</th>\n",
       "      <td>1.0</td>\n",
       "      <td>Happy 38th Birthday to my boo of alll time!!! ...</td>\n",
       "    </tr>\n",
       "    <tr>\n",
       "      <th>1599999</th>\n",
       "      <td>1.0</td>\n",
       "      <td>happy #charitytuesday @theNSPCC @SparksCharity...</td>\n",
       "    </tr>\n",
       "  </tbody>\n",
       "</table>\n",
       "</div>"
      ],
      "text/plain": [
       "         sentiment                                               text\n",
       "1599995        1.0  Just woke up. Having no school is the best fee...\n",
       "1599996        1.0  TheWDB.com - Very cool to hear old Walt interv...\n",
       "1599997        1.0  Are you ready for your MoJo Makeover? Ask me f...\n",
       "1599998        1.0  Happy 38th Birthday to my boo of alll time!!! ...\n",
       "1599999        1.0  happy #charitytuesday @theNSPCC @SparksCharity..."
      ]
     },
     "execution_count": 5,
     "metadata": {},
     "output_type": "execute_result"
    }
   ],
   "source": [
    "df1.tail()"
   ]
  },
  {
   "cell_type": "code",
   "execution_count": null,
   "metadata": {},
   "outputs": [],
   "source": []
  },
  {
   "cell_type": "markdown",
   "metadata": {},
   "source": [
    "# Data clearning "
   ]
  },
  {
   "cell_type": "code",
   "execution_count": 4,
   "metadata": {},
   "outputs": [],
   "source": [
    "stop_words = stopwords.words('english')\n",
    "stemmer = SnowballStemmer('english')\n",
    "text_cleaning_re = \"@\\S+|https?:\\S+|http?:\\S|[^A-Za-z0-9]+\"\n",
    "\n",
    "def preprocess(text):\n",
    "    text = re.sub(text_cleaning_re, ' ', str(text).lower()).strip()\n",
    "    \n",
    "    tokens = []\n",
    "    for token in text.split():\n",
    "        if token not in stop_words:\n",
    "            tokens.append(stemmer.stem(token))\n",
    "    return ' '.join(tokens)\n",
    "\n",
    "df1['text'] = df1['text'].apply(preprocess)"
   ]
  },
  {
   "cell_type": "code",
   "execution_count": null,
   "metadata": {},
   "outputs": [],
   "source": []
  },
  {
   "cell_type": "code",
   "execution_count": null,
   "metadata": {},
   "outputs": [],
   "source": []
  },
  {
   "cell_type": "markdown",
   "metadata": {},
   "source": [
    "# How many words are there in average in each tweet?"
   ]
  },
  {
   "cell_type": "code",
   "execution_count": 46,
   "metadata": {
    "scrolled": true
   },
   "outputs": [
    {
     "data": {
      "image/png": "[encoded data removed]",
      "text/plain": [
       "<Figure size 432x288 with 1 Axes>"
      ]
     },
     "metadata": {
      "needs_background": "light"
     },
     "output_type": "display_data"
    }
   ],
   "source": [
    "word_count = df['text'].str.split().str.len()\n",
    "word_count.hist(bins=20)\n",
    "plt.xlabel('Word count per tweet')\n",
    "plt.ylabel('Number of tweets')\n",
    "plt.show()"
   ]
  },
  {
   "cell_type": "code",
   "execution_count": 55,
   "metadata": {},
   "outputs": [
    {
     "data": {
      "text/plain": [
       "1600000"
      ]
     },
     "execution_count": 55,
     "metadata": {},
     "output_type": "execute_result"
    }
   ],
   "source": [
    "len(word_count > 35)"
   ]
  },
  {
   "cell_type": "code",
   "execution_count": 51,
   "metadata": {},
   "outputs": [
    {
     "data": {
      "text/html": [
       "<div>\n",
       "<style scoped>\n",
       "    .dataframe tbody tr th:only-of-type {\n",
       "        vertical-align: middle;\n",
       "    }\n",
       "\n",
       "    .dataframe tbody tr th {\n",
       "        vertical-align: top;\n",
       "    }\n",
       "\n",
       "    .dataframe thead th {\n",
       "        text-align: right;\n",
       "    }\n",
       "</style>\n",
       "<table border=\"1\" class=\"dataframe\">\n",
       "  <thead>\n",
       "    <tr style=\"text-align: right;\">\n",
       "      <th></th>\n",
       "      <th>sentiment</th>\n",
       "      <th>text</th>\n",
       "    </tr>\n",
       "  </thead>\n",
       "  <tbody>\n",
       "    <tr>\n",
       "      <th>109664</th>\n",
       "      <td>0</td>\n",
       "      <td>Who Am I Lying ! ? ! I Know , You Know , We Al...</td>\n",
       "    </tr>\n",
       "    <tr>\n",
       "      <th>336344</th>\n",
       "      <td>0</td>\n",
       "      <td>I never get 2 c u as often as I like,I never g...</td>\n",
       "    </tr>\n",
       "    <tr>\n",
       "      <th>374042</th>\n",
       "      <td>0</td>\n",
       "      <td>I hate this , why does he have to be my step c...</td>\n",
       "    </tr>\n",
       "    <tr>\n",
       "      <th>461028</th>\n",
       "      <td>0</td>\n",
       "      <td>Is the saddest zornes ever thanks to the magic...</td>\n",
       "    </tr>\n",
       "    <tr>\n",
       "      <th>461273</th>\n",
       "      <td>0</td>\n",
       "      <td>Ok ok . . . lol . . . I was gonna tell u . . ....</td>\n",
       "    </tr>\n",
       "    <tr>\n",
       "      <th>526581</th>\n",
       "      <td>0</td>\n",
       "      <td>@LaurenConrad â",
       "â",
       "â",
       " â¥ â¥ â¥ L.A. Candy...</td>\n",
       "    </tr>\n",
       "    <tr>\n",
       "      <th>532718</th>\n",
       "      <td>0</td>\n",
       "      <td>Okay I'm Up - I'm Up! Wow, the sun is out, the...</td>\n",
       "    </tr>\n",
       "    <tr>\n",
       "      <th>582335</th>\n",
       "      <td>0</td>\n",
       "      <td>So AT&amp;amp;T cnt kp up wit all the tweets I rcv...</td>\n",
       "    </tr>\n",
       "    <tr>\n",
       "      <th>675528</th>\n",
       "      <td>0</td>\n",
       "      <td>Tá»i hum wa mÃ¬nh ko tÃ i nÃ o ngá»§ ÄÆ°á»£c...</td>\n",
       "    </tr>\n",
       "    <tr>\n",
       "      <th>770356</th>\n",
       "      <td>0</td>\n",
       "      <td>I'm so boreeeeed. . . . . . . . . . . . . . . ...</td>\n",
       "    </tr>\n",
       "    <tr>\n",
       "      <th>852964</th>\n",
       "      <td>4</td>\n",
       "      <td>@ddlovato don't care bout ppl who r saying u r...</td>\n",
       "    </tr>\n",
       "    <tr>\n",
       "      <th>870822</th>\n",
       "      <td>4</td>\n",
       "      <td>; Math = 63% , English = 100% , French = 83% ,...</td>\n",
       "    </tr>\n",
       "    <tr>\n",
       "      <th>971528</th>\n",
       "      <td>4</td>\n",
       "      <td>Shout out 2 all my followers .. I got it . I g...</td>\n",
       "    </tr>\n",
       "    <tr>\n",
       "      <th>978444</th>\n",
       "      <td>4</td>\n",
       "      <td>My mom told me the other day my dad wants my c...</td>\n",
       "    </tr>\n",
       "    <tr>\n",
       "      <th>981534</th>\n",
       "      <td>4</td>\n",
       "      <td>@ajayrochester DO IT DO IT DO IT DO IT DO IT D...</td>\n",
       "    </tr>\n",
       "    <tr>\n",
       "      <th>1006771</th>\n",
       "      <td>4</td>\n",
       "      <td>If E x N = 12, L + X = 4 and K-T = 1. What doe...</td>\n",
       "    </tr>\n",
       "    <tr>\n",
       "      <th>1079511</th>\n",
       "      <td>4</td>\n",
       "      <td>? ? ? ? ? ? ? ? ? ? ? ? ? ? ? ? ? ? ?    ? ? ?...</td>\n",
       "    </tr>\n",
       "    <tr>\n",
       "      <th>1080011</th>\n",
       "      <td>4</td>\n",
       "      <td>? ? ? ? ? ? ? ?? ? ? ? ? ? ? ? ? ? ? ? ? ? ? ?...</td>\n",
       "    </tr>\n",
       "    <tr>\n",
       "      <th>1097562</th>\n",
       "      <td>4</td>\n",
       "      <td>I'm blue Da ba dee da ba di da ba dee da ba di...</td>\n",
       "    </tr>\n",
       "    <tr>\n",
       "      <th>1231574</th>\n",
       "      <td>4</td>\n",
       "      <td>@doax ì´ì°¨í¼ bandwidthë ë¶ì° íì?¼ ì...</td>\n",
       "    </tr>\n",
       "    <tr>\n",
       "      <th>1308367</th>\n",
       "      <td>4</td>\n",
       "      <td>#self_info 2ë¬ë? ê°ë°ì?... ì?¸ê°ì ?ì?¸ ê...</td>\n",
       "    </tr>\n",
       "    <tr>\n",
       "      <th>1416592</th>\n",
       "      <td>4</td>\n",
       "      <td>hi miley can u email me if i give u my email i...</td>\n",
       "    </tr>\n",
       "    <tr>\n",
       "      <th>1590300</th>\n",
       "      <td>4</td>\n",
       "      <td>4 I am high &amp;amp; u can see. 4 I am lost &amp;amp;...</td>\n",
       "    </tr>\n",
       "  </tbody>\n",
       "</table>\n",
       "</div>"
      ],
      "text/plain": [
       "         sentiment                                               text\n",
       "109664           0  Who Am I Lying ! ? ! I Know , You Know , We Al...\n",
       "336344           0  I never get 2 c u as often as I like,I never g...\n",
       "374042           0  I hate this , why does he have to be my step c...\n",
       "461028           0  Is the saddest zornes ever thanks to the magic...\n",
       "461273           0  Ok ok . . . lol . . . I was gonna tell u . . ....\n",
       "526581           0  @LaurenConrad â\n",
       "â\n",
       "â\n",
       " â¥ â¥ â¥ L.A. Candy...\n",
       "532718           0  Okay I'm Up - I'm Up! Wow, the sun is out, the...\n",
       "582335           0  So AT&amp;T cnt kp up wit all the tweets I rcv...\n",
       "675528           0  Tá»i hum wa mÃ¬nh ko tÃ i nÃ o ngá»§ ÄÆ°á»£c...\n",
       "770356           0  I'm so boreeeeed. . . . . . . . . . . . . . . ...\n",
       "852964           4  @ddlovato don't care bout ppl who r saying u r...\n",
       "870822           4  ; Math = 63% , English = 100% , French = 83% ,...\n",
       "971528           4  Shout out 2 all my followers .. I got it . I g...\n",
       "978444           4  My mom told me the other day my dad wants my c...\n",
       "981534           4  @ajayrochester DO IT DO IT DO IT DO IT DO IT D...\n",
       "1006771          4  If E x N = 12, L + X = 4 and K-T = 1. What doe...\n",
       "1079511          4  ? ? ? ? ? ? ? ? ? ? ? ? ? ? ? ? ? ? ?    ? ? ?...\n",
       "1080011          4  ? ? ? ? ? ? ? ?? ? ? ? ? ? ? ? ? ? ? ? ? ? ? ?...\n",
       "1097562          4  I'm blue Da ba dee da ba di da ba dee da ba di...\n",
       "1231574          4  @doax ì´ì°¨í¼ bandwidthë ë¶ì° íì?¼ ì...\n",
       "1308367          4  #self_info 2ë¬ë? ê°ë°ì?... ì?¸ê°ì ?ì?¸ ê...\n",
       "1416592          4  hi miley can u email me if i give u my email i...\n",
       "1590300          4  4 I am high &amp; u can see. 4 I am lost &amp;..."
      ]
     },
     "execution_count": 51,
     "metadata": {},
     "output_type": "execute_result"
    }
   ],
   "source": [
    "df[word_count > 35]"
   ]
  },
  {
   "cell_type": "code",
   "execution_count": 61,
   "metadata": {},
   "outputs": [
    {
     "data": {
      "text/plain": [
       "4    799979\n",
       "0    799976\n",
       "Name: sentiment, dtype: int64"
      ]
     },
     "execution_count": 61,
     "metadata": {},
     "output_type": "execute_result"
    }
   ],
   "source": [
    "df = df[word_count < 35]\n",
    "\n",
    "df['sentiment'].value_counts()"
   ]
  },
  {
   "cell_type": "code",
   "execution_count": 60,
   "metadata": {},
   "outputs": [],
   "source": [
    "sample_size = 10000\n",
    "df1 = pd.concat([df.head(sample_size), df.tail(sample_size)])"
   ]
  },
  {
   "cell_type": "code",
   "execution_count": null,
   "metadata": {},
   "outputs": [],
   "source": []
  },
  {
   "cell_type": "markdown",
   "metadata": {},
   "source": [
    "# Vizualize the top used words to get an idea of how many words to keep in the word vector. \n",
    "\n",
    "- Length of the word vector at max can be equal to the total number of words in english dictionary. 1000 might be the good vector to consider. But check it. \n",
    "\n",
    "- If the plan is to use in other text data the words appearing in tweet might not the be the good indicator of the most frequent words in other form of texts, eg. news, book etc. "
   ]
  },
  {
   "cell_type": "code",
   "execution_count": 6,
   "metadata": {},
   "outputs": [
    {
     "name": "stdout",
     "output_type": "stream",
     "text": [
      "Total number of words in the dataset: \t 1350598\n"
     ]
    }
   ],
   "source": [
    "word_count = df['text'].str.split(expand=True).stack().value_counts()\n",
    "print('Total number of words in the dataset: \\t', len(word_count))"
   ]
  },
  {
   "cell_type": "code",
   "execution_count": 7,
   "metadata": {},
   "outputs": [
    {
     "data": {
      "image/png": "[encoded data removed]",
      "text/plain": [
       "<Figure size 432x288 with 1 Axes>"
      ]
     },
     "metadata": {
      "needs_background": "light"
     },
     "output_type": "display_data"
    }
   ],
   "source": [
    "word_count.head(20).plot.bar()\n",
    "plt.title('Number of repeatitions of top 20 words')\n",
    "plt.show()"
   ]
  },
  {
   "cell_type": "code",
   "execution_count": 8,
   "metadata": {},
   "outputs": [
    {
     "data": {
      "image/png": "[encoded data removed]",
      "text/plain": [
       "<Figure size 432x288 with 1 Axes>"
      ]
     },
     "metadata": {
      "needs_background": "light"
     },
     "output_type": "display_data"
    }
   ],
   "source": [
    "arr = word_count.values\n",
    "\n",
    "plt.plot(arr[:12000])\n",
    "plt.yscale('log')\n",
    "plt.xlabel('Number of top words')\n",
    "plt.ylabel('Count of words')\n",
    "plt.title('Number of repeatitions of top 12000 words')\n",
    "plt.grid()"
   ]
  },
  {
   "cell_type": "markdown",
   "metadata": {},
   "source": [
    "If we choose top 12000 words they repeat approximately 100 times at least. Top top 2000 words repeat at least 800 times and top 500 words repeats at least 5000 times. There are 1600000 samples. So repeating a word 16000 times means that word appearing in 1% of the sample. Therefore, if we choose top 500 words the least repeated word appears in 0.3% of the sample and if we choose top 2000 words the least repeated word appears in 0.05% of the sample. To imphesize least repeated word of top 2000 word appear only once in each 2000 tweet. So top 1000 or 2000 sample must be enough."
   ]
  },
  {
   "cell_type": "code",
   "execution_count": 9,
   "metadata": {},
   "outputs": [
    {
     "data": {
      "image/png": "[encoded data removed]",
      "text/plain": [
       "<Figure size 432x288 with 1 Axes>"
      ]
     },
     "metadata": {
      "needs_background": "light"
     },
     "output_type": "display_data"
    }
   ],
   "source": [
    "plt.plot(arr[:2000])\n",
    "plt.yscale('log')\n",
    "plt.grid()"
   ]
  },
  {
   "cell_type": "code",
   "execution_count": null,
   "metadata": {},
   "outputs": [],
   "source": []
  },
  {
   "cell_type": "markdown",
   "metadata": {},
   "source": [
    "## It is fine upto here\n",
    "\n",
    "-- In future need to do all the preprocessing inside the pipeline. But it is OK for now. "
   ]
  },
  {
   "cell_type": "code",
   "execution_count": 5,
   "metadata": {},
   "outputs": [],
   "source": [
    "from sklearn.model_selection import train_test_split\n",
    "\n",
    "from sklearn.feature_extraction.text import TfidfVectorizer\n",
    "from sklearn.ensemble import RandomForestClassifier, StackingClassifier\n",
    "from sklearn.pipeline import Pipeline\n",
    "\n",
    "from sklearn.metrics import accuracy_score\n",
    "from sklearn.model_selection import GridSearchCV\n",
    "from sklearn.model_selection import PredefinedSplit\n",
    "\n",
    "from xgboost import XGBClassifier"
   ]
  },
  {
   "cell_type": "markdown",
   "metadata": {},
   "source": [
    "# Use customize the validation data: because the dataset is very large. 5 fold cross valdiation is not needed. Small set would do. "
   ]
  },
  {
   "cell_type": "code",
   "execution_count": 6,
   "metadata": {},
   "outputs": [
    {
     "name": "stdout",
     "output_type": "stream",
     "text": [
      "Train data size: \t 9800 \n",
      "Validation data size: \t 4200 \n",
      "Test data size: \t 6000\n"
     ]
    }
   ],
   "source": [
    "X = df1['text']\n",
    "y = df1['sentiment']\n",
    "\n",
    "X_trainvalid, X_test, y_trainvalid, y_test = train_test_split(X, y, test_size=0.3)\n",
    "X_train, X_valid, y_train, y_valid = train_test_split(X_trainvalid, y_trainvalid, test_size=0.3)\n",
    "\n",
    "print('Train data size: \\t', X_train.shape[0], \n",
    "      '\\nValidation data size: \\t', X_valid.shape[0], \n",
    "      '\\nTest data size: \\t', X_test.shape[0])\n",
    "\n",
    "test_fold = [0 if x in X_valid.index else -1 for x in X_trainvalid.index]\n",
    "\n",
    "ps = PredefinedSplit(test_fold)"
   ]
  },
  {
   "cell_type": "code",
   "execution_count": null,
   "metadata": {},
   "outputs": [],
   "source": []
  },
  {
   "cell_type": "markdown",
   "metadata": {},
   "source": [
    "# Ensemble learning \n",
    "\n",
    "Write what is ensemble learning \n",
    "\n",
    "### Bagging: Random forest classifier \n",
    "\n",
    "Introduce what is baggin?\n",
    "\n",
    "Please not that we are not using the naive bagging here. Instead we use the random forest. \n",
    "\n",
    "What is Random forest?\n",
    "\n",
    "What is bootstrap?\n"
   ]
  },
  {
   "cell_type": "code",
   "execution_count": 7,
   "metadata": {},
   "outputs": [
    {
     "data": {
      "text/plain": [
       "0.7245"
      ]
     },
     "execution_count": 7,
     "metadata": {},
     "output_type": "execute_result"
    }
   ],
   "source": [
    "n_words = [500]\n",
    "n_trees = [100]\n",
    "\n",
    "parameters = {'max_features':n_words, \n",
    "              'n_estimators':n_trees}\n",
    "\n",
    "vector = TfidfVectorizer()\n",
    "rf = RandomForestClassifier()\n",
    "\n",
    "clf = GridSearchCV(rf, parameters, \n",
    "                  cv=ps, refit=True, \n",
    "                  n_jobs=-1)\n",
    "\n",
    "rf_pipeline = Pipeline(steps=[('vec', vector),('clf', clf)])\n",
    "\n",
    "rf_pipeline.fit(X_trainvalid, y_trainvalid)\n",
    "rf_pipeline.score(X_test, y_test)"
   ]
  },
  {
   "cell_type": "markdown",
   "metadata": {},
   "source": [
    "### Boosting: XGBoost \n",
    "\n",
    "What is boosting in general? \n",
    "\n",
    "It is an concept not necessirily related to the tree based model. \n",
    "\n",
    "We use three boosting models here: XGBoost, LGBM, cratBoost \n",
    "\n",
    "We are not using adaBoost, gradientBoosting from sklearn "
   ]
  },
  {
   "cell_type": "code",
   "execution_count": 8,
   "metadata": {},
   "outputs": [
    {
     "data": {
      "text/plain": [
       "0.7226666666666667"
      ]
     },
     "execution_count": 8,
     "metadata": {},
     "output_type": "execute_result"
    }
   ],
   "source": [
    "n_words = [500]\n",
    "n_trees = [500]\n",
    "l_rate = [0.1]\n",
    "\n",
    "parameters = {'max_features':n_words, \n",
    "              'n_estimators':n_trees, \n",
    "              'learning_rate':l_rate}\n",
    "\n",
    "vector = TfidfVectorizer()\n",
    "xgb = XGBClassifier(eval_set=[X_valid, y_valid], \n",
    "                   early_stopping_rounds=[3])\n",
    "\n",
    "clf = GridSearchCV(xgb, parameters, \n",
    "                  cv=ps, refit=True, \n",
    "                  n_jobs=-1)\n",
    "\n",
    "xgb_pipeline = Pipeline(steps=[('vec', vector),('clf', clf)])\n",
    "\n",
    "xgb_pipeline.fit(X_trainvalid, y_trainvalid)\n",
    "xgb_pipeline.score(X_test, y_test)"
   ]
  },
  {
   "cell_type": "code",
   "execution_count": null,
   "metadata": {},
   "outputs": [],
   "source": []
  },
  {
   "cell_type": "code",
   "execution_count": null,
   "metadata": {},
   "outputs": [],
   "source": []
  },
  {
   "cell_type": "code",
   "execution_count": null,
   "metadata": {},
   "outputs": [],
   "source": []
  },
  {
   "cell_type": "markdown",
   "metadata": {},
   "source": [
    "### Stacking \n",
    "\n",
    "Stacking is another form of ensemble learning. In the simplest from stacking means take the predictions from various models and average them out for the final predictions. \n",
    "\n",
    "$$ pred_{stack} = \\frac{pred_{model_1} + pred_{model_2} + \\cdots pred_{model_N}}{N} $$\n",
    "\n",
    "In most of the cases this already gives a better performance than the performance of the individual models. But we can do better than this introducing a more sofisticated stacking scheme. In thins approach we take the predictions from each model as the new features (input) of the new dataset. The target variable is again the same. We then choose another model to fit these data.  \n",
    "\n",
    "##### Now a question is why this approach works? \n",
    "In many optimization problem the cost function is not a convex function. Meaning that there might not be a single global minima but there can be multiple global minima and even higher number of local minima. In extremely high dimensional space of the data those individual global minima can be connected to each other through what we might called a flat topological valley. When you reach at the edge of the downhill of the valley you find the minima. You can not minimize the loss function further because the gradients are already zero. In a sense it is already optimized but the more robost model exist at the middle of the flat valley. In this sense model-I might have reached the valley from one end while model-II might have reached there from different end. Averaging them take you to the center of the valley. This concept is illustrated in the plot below: \n"
   ]
  },
  {
   "cell_type": "code",
   "execution_count": 87,
   "metadata": {},
   "outputs": [
    {
     "data": {
      "image/png": "[encoded data removed]",
      "text/plain": [
       "<Figure size 504x360 with 1 Axes>"
      ]
     },
     "metadata": {
      "needs_background": "light"
     },
     "output_type": "display_data"
    }
   ],
   "source": [
    "grids = np.linspace(-1.2, 1.2, 20)\n",
    "xgrid, ygrid = np.meshgrid(grids, grids)\n",
    "zgrid = np.exp((xgrid**2 + ygrid**2))\n",
    "cont_loc = np.linspace(0, np.max(zgrid), 20)\n",
    "\n",
    "def arror_series(x_start=0, y_start=0, x_incr=1, y_incr=1):\n",
    "    for i in range(4):\n",
    "        plt.arrow(x_start, y_start, x_incr, y_incr, head_width=0.5, fc='r', ec='r')\n",
    "        x_start += x_incr\n",
    "        y_start += y_incr  \n",
    "\n",
    "plt.figure(figsize=(7, 5))\n",
    "plt.contour(zgrid, cont_loc)\n",
    "plt.axis('off')\n",
    "\n",
    "arror_series(y_start=17, x_incr=0.9, y_incr=-1.1)\n",
    "arror_series(x_start=18, x_incr=-0.9, y_incr=1.1)\n",
    "plt.show()"
   ]
  },
  {
   "cell_type": "markdown",
   "metadata": {},
   "source": [
    " \n",
    "\n",
    "There is sklearn API for doing only the second type of stacking. So let's do the first type of stacking manually. "
   ]
  },
  {
   "cell_type": "code",
   "execution_count": 9,
   "metadata": {},
   "outputs": [
    {
     "name": "stdout",
     "output_type": "stream",
     "text": [
      "961.0\n",
      "10680.0\n",
      "10691.0\n",
      "10629.0\n"
     ]
    }
   ],
   "source": [
    "proba_xgb = xgb_pipeline.predict_proba(X_test)\n",
    "proba_rf = rf_pipeline.predict_proba(X_test)\n",
    "\n",
    "pred_rf = np.round(proba_rf[:, 1])\n",
    "pred_xgb = np.round(proba_xgb[:, 1])\n",
    "\n",
    "pred_tot = np.round((proba_rf[:,1] + proba_xgb[:,1])/2)\n",
    "\n",
    "print(np.sum(np.abs(pred_rf - pred_xgb)))\n",
    "print(np.sum(np.abs(pred_rf - y_test)))\n",
    "print(np.sum(np.abs(pred_xgb - y_test)))\n",
    "print(np.sum(np.abs(pred_tot - y_test)))"
   ]
  },
  {
   "cell_type": "code",
   "execution_count": null,
   "metadata": {},
   "outputs": [],
   "source": []
  },
  {
   "cell_type": "code",
   "execution_count": 11,
   "metadata": {},
   "outputs": [
    {
     "data": {
      "text/plain": [
       "75.34"
      ]
     },
     "execution_count": 11,
     "metadata": {},
     "output_type": "execute_result"
    }
   ],
   "source": [
    "stack = StackingClassifier(\n",
    "                    estimators=[('rf', rf_pipeline), \n",
    "                                ('xgb', xgb_pipeline)],     \n",
    "                    cv=ps, \n",
    "                    n_jobs=-1)\n",
    "\n",
    "stack.fit(X_trainvalid, y_trainvalid)\n",
    "stack.score(X_test, y_test)"
   ]
  },
  {
   "cell_type": "code",
   "execution_count": null,
   "metadata": {},
   "outputs": [],
   "source": []
  },
  {
   "cell_type": "markdown",
   "metadata": {},
   "source": [
    "# Future direction \n",
    "\n",
    "- LGBM \n",
    "- XGB with linear model \n",
    "- RNN "
   ]
  },
  {
   "cell_type": "code",
   "execution_count": null,
   "metadata": {},
   "outputs": [],
   "source": []
  }
 ],
 "metadata": {
  "kernelspec": {
   "display_name": "Python 3",
   "language": "python",
   "name": "python3"
  },
  "language_info": {
   "codemirror_mode": {
    "name": "ipython",
    "version": 3
   },
   "file_extension": ".py",
   "mimetype": "text/x-python",
   "name": "python",
   "nbconvert_exporter": "python",
   "pygments_lexer": "ipython3",
   "version": "3.7.7"
  }
 },
 "nbformat": 4,
 "nbformat_minor": 4
}
