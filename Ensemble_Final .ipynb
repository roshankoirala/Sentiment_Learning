{
 "cells": [
  {
   "cell_type": "markdown",
   "metadata": {},
   "source": [
    "# Introduction\n",
    "\n",
    "Dataset used to make a model is found here: \n",
    "\n",
    "https://www.kaggle.com/kazanova/sentiment140\n",
    "\n",
    "\n",
    "People has reached upto 83% accuracy here: \n",
    "\n",
    "https://www.kaggle.com/stoicstatic/twitter-sentiment-analysis-for-beginners\n",
    "\n",
    "Aim for 85%+\n",
    "\n",
    "Here is another one based on NN \n",
    "\n",
    "https://www.curiousily.com/posts/sentiment-analysis-with-bert-and-hugging-face-using-pytorch-and-python/"
   ]
  },
  {
   "cell_type": "code",
   "execution_count": 1,
   "metadata": {},
   "outputs": [],
   "source": [
    "import numpy as np\n",
    "import pandas as pd\n",
    "import matplotlib.pyplot as plt \n",
    "# import seaborn as sns \n",
    "\n",
    "import joblib\n",
    "from sklearn.model_selection import train_test_split, GridSearchCV, PredefinedSplit\n",
    "\n",
    "from sklearn.preprocessing import LabelEncoder\n",
    "from sklearn.feature_extraction.text import TfidfVectorizer, HashingVectorizer\n",
    "\n",
    "from sklearn.pipeline import Pipeline\n",
    "from sklearn.linear_model import LogisticRegression\n",
    "from sklearn.ensemble import RandomForestClassifier, StackingClassifier\n",
    "from sklearn.metrics import accuracy_score, confusion_matrix\n",
    "\n",
    "from sklearn.naive_bayes import BernoulliNB\n",
    "from xgboost import XGBClassifier\n",
    "from lightgbm import LGBMClassifier\n",
    "from catboost import CatBoostClassifier"
   ]
  },
  {
   "cell_type": "code",
   "execution_count": 2,
   "metadata": {},
   "outputs": [],
   "source": [
    "# import seaborn as sns"
   ]
  },
  {
   "cell_type": "code",
   "execution_count": 3,
   "metadata": {},
   "outputs": [
    {
     "data": {
      "text/html": [
       "<div>\n",
       "<style scoped>\n",
       "    .dataframe tbody tr th:only-of-type {\n",
       "        vertical-align: middle;\n",
       "    }\n",
       "\n",
       "    .dataframe tbody tr th {\n",
       "        vertical-align: top;\n",
       "    }\n",
       "\n",
       "    .dataframe thead th {\n",
       "        text-align: right;\n",
       "    }\n",
       "</style>\n",
       "<table border=\"1\" class=\"dataframe\">\n",
       "  <thead>\n",
       "    <tr style=\"text-align: right;\">\n",
       "      <th></th>\n",
       "      <th>sentiment</th>\n",
       "      <th>text</th>\n",
       "    </tr>\n",
       "  </thead>\n",
       "  <tbody>\n",
       "    <tr>\n",
       "      <th>130885</th>\n",
       "      <td>0</td>\n",
       "      <td>user poor hun well play weekend ill hous work</td>\n",
       "    </tr>\n",
       "    <tr>\n",
       "      <th>245392</th>\n",
       "      <td>0</td>\n",
       "      <td>work</td>\n",
       "    </tr>\n",
       "    <tr>\n",
       "      <th>409617</th>\n",
       "      <td>0</td>\n",
       "      <td>want tri sim num</td>\n",
       "    </tr>\n",
       "    <tr>\n",
       "      <th>957772</th>\n",
       "      <td>4</td>\n",
       "      <td>user gas alwali goe upi rememb num im old</td>\n",
       "    </tr>\n",
       "    <tr>\n",
       "      <th>1031857</th>\n",
       "      <td>4</td>\n",
       "      <td>user good night</td>\n",
       "    </tr>\n",
       "    <tr>\n",
       "      <th>594754</th>\n",
       "      <td>0</td>\n",
       "      <td>damn tummi cramp</td>\n",
       "    </tr>\n",
       "    <tr>\n",
       "      <th>278618</th>\n",
       "      <td>0</td>\n",
       "      <td>user snap gay tad cal</td>\n",
       "    </tr>\n",
       "    <tr>\n",
       "      <th>322908</th>\n",
       "      <td>0</td>\n",
       "      <td>user cant file bankruptci longer exist wait nu...</td>\n",
       "    </tr>\n",
       "    <tr>\n",
       "      <th>201845</th>\n",
       "      <td>0</td>\n",
       "      <td>idead time call today</td>\n",
       "    </tr>\n",
       "    <tr>\n",
       "      <th>1430893</th>\n",
       "      <td>4</td>\n",
       "      <td>user problem yeah understand peopl want make b...</td>\n",
       "    </tr>\n",
       "  </tbody>\n",
       "</table>\n",
       "</div>"
      ],
      "text/plain": [
       "         sentiment                                               text\n",
       "130885           0      user poor hun well play weekend ill hous work\n",
       "245392           0                                               work\n",
       "409617           0                                   want tri sim num\n",
       "957772           4          user gas alwali goe upi rememb num im old\n",
       "1031857          4                                    user good night\n",
       "594754           0                                   damn tummi cramp\n",
       "278618           0                              user snap gay tad cal\n",
       "322908           0  user cant file bankruptci longer exist wait nu...\n",
       "201845           0                              idead time call today\n",
       "1430893          4  user problem yeah understand peopl want make b..."
      ]
     },
     "execution_count": 3,
     "metadata": {},
     "output_type": "execute_result"
    }
   ],
   "source": [
    "df = pd.read_csv('Tweet_sentiment_clean.csv', encoding='ISO-8859-1')\n",
    "df.sample(10)"
   ]
  },
  {
   "cell_type": "code",
   "execution_count": 4,
   "metadata": {},
   "outputs": [
    {
     "data": {
      "text/plain": [
       "4    799789\n",
       "0    799722\n",
       "Name: sentiment, dtype: int64"
      ]
     },
     "execution_count": 4,
     "metadata": {},
     "output_type": "execute_result"
    }
   ],
   "source": [
    "df['sentiment'].value_counts()"
   ]
  },
  {
   "cell_type": "markdown",
   "metadata": {},
   "source": [
    "## Model Building \n",
    "\n",
    "-- In future need to do all the preprocessing inside the pipeline. But it is OK for now. "
   ]
  },
  {
   "cell_type": "code",
   "execution_count": null,
   "metadata": {},
   "outputs": [],
   "source": []
  },
  {
   "cell_type": "markdown",
   "metadata": {},
   "source": [
    "#### Use customize the validation data: because the dataset is very large. 5 fold cross valdiation is not needed. Small set would do. "
   ]
  },
  {
   "cell_type": "code",
   "execution_count": 5,
   "metadata": {},
   "outputs": [],
   "source": [
    "X = df['text']\n",
    "y = df['sentiment']"
   ]
  },
  {
   "cell_type": "code",
   "execution_count": 6,
   "metadata": {},
   "outputs": [],
   "source": [
    "encoder = LabelEncoder()\n",
    "\n",
    "# We can fit_transform entire y before train_test split.\n",
    "# This is because label encoding is not feature transformation. \n",
    "y = encoder.fit_transform(y)"
   ]
  },
  {
   "cell_type": "code",
   "execution_count": 7,
   "metadata": {},
   "outputs": [
    {
     "name": "stdout",
     "output_type": "stream",
     "text": [
      "Train data size: \t 783759 \n",
      "Validation data size: \t 335898 \n",
      "Test data size: \t 479854\n"
     ]
    }
   ],
   "source": [
    "X_trainvalid, X_test, y_trainvalid, y_test = \\\n",
    "                    train_test_split(X, y, \n",
    "                                     test_size=0.3, \n",
    "                                     random_state=77)\n",
    "\n",
    "X_train, X_valid, y_train, y_valid = \\\n",
    "                    train_test_split(X_trainvalid, \n",
    "                                     y_trainvalid, \n",
    "                                     test_size=0.3, \n",
    "                                     random_state=77)\n",
    "\n",
    "print('Train data size: \\t', X_train.shape[0], \n",
    "      '\\nValidation data size: \\t', X_valid.shape[0], \n",
    "      '\\nTest data size: \\t', X_test.shape[0])\n",
    "\n",
    "test_fold = [0 if x in X_valid.index else -1 for x in X_trainvalid.index]\n",
    "\n",
    "ps = PredefinedSplit(test_fold)"
   ]
  },
  {
   "cell_type": "code",
   "execution_count": null,
   "metadata": {},
   "outputs": [],
   "source": []
  },
  {
   "cell_type": "code",
   "execution_count": null,
   "metadata": {},
   "outputs": [],
   "source": []
  },
  {
   "cell_type": "markdown",
   "metadata": {},
   "source": [
    "# Stacking \n",
    "\n",
    "Stacking is another form of ensemble learning. In the simplest from stacking means take the predictions from various models and average them out for the final predictions. \n",
    "\n",
    "$$ pred_{stack} = \\frac{pred_{model_1} + pred_{model_2} + \\cdots pred_{model_N}}{N} $$\n",
    "\n",
    "In most of the cases this already gives a better performance than the performance of the individual models. But we can do better than this introducing a more sofisticated stacking scheme. In thins approach we take the predictions from each model as the new features (input) of the new dataset. The target variable is again the same. We then choose another model to fit these data.  \n",
    "\n",
    "##### Now a question is why this approach works? \n",
    "In many optimization problem the cost function is not a convex function. Meaning that there might not be a single global minima but there can be multiple global minima and even higher number of local minima. In extremely high dimensional space of the data those individual global minima can be connected to each other through what we might called a flat topological valley. When you reach at the edge of the downhill of the valley you find the minima. You can not minimize the loss function further because the gradients are already zero. In a sense it is already optimized but the more robost model exist at the middle of the flat valley. In this sense model-I might have reached the valley from one end while model-II might have reached there from different end. Averaging them take you to the center of the valley. This concept is illustrated in the plot below: \n"
   ]
  },
  {
   "cell_type": "code",
   "execution_count": 8,
   "metadata": {},
   "outputs": [
    {
     "data": {
      "image/png": "[encoded data removed]",
      "text/plain": [
       "<Figure size 504x360 with 1 Axes>"
      ]
     },
     "metadata": {
      "needs_background": "light"
     },
     "output_type": "display_data"
    }
   ],
   "source": [
    "grids = np.linspace(-1.2, 1.2, 20)\n",
    "xgrid, ygrid = np.meshgrid(grids, grids)\n",
    "zgrid = np.exp((xgrid**2 + ygrid**2))\n",
    "cont_loc = np.linspace(0, np.max(zgrid), 20)\n",
    "\n",
    "def arror_series(x_start=0, y_start=0, x_incr=1, y_incr=1):\n",
    "    for i in range(4):\n",
    "        plt.arrow(x_start, y_start, x_incr, y_incr, head_width=0.5, fc='r', ec='r')\n",
    "        x_start += x_incr\n",
    "        y_start += y_incr  \n",
    "\n",
    "plt.figure(figsize=(7, 5))\n",
    "plt.contour(zgrid, cont_loc)\n",
    "plt.axis('off')\n",
    "\n",
    "arror_series(y_start=17, x_incr=0.9, y_incr=-1.1)\n",
    "arror_series(x_start=18, x_incr=-0.9, y_incr=1.1)\n",
    "plt.show()"
   ]
  },
  {
   "cell_type": "code",
   "execution_count": 10,
   "metadata": {},
   "outputs": [
    {
     "data": {
      "text/plain": [
       "0.7678606409449541"
      ]
     },
     "execution_count": 10,
     "metadata": {},
     "output_type": "execute_result"
    }
   ],
   "source": [
    "nb_pipeline = joblib.load('nb_pipeline.pkl')\n",
    "nb_pipeline.score(X_test, y_test)"
   ]
  },
  {
   "cell_type": "code",
   "execution_count": 11,
   "metadata": {},
   "outputs": [
    {
     "data": {
      "text/plain": [
       "0.780718718610244"
      ]
     },
     "execution_count": 11,
     "metadata": {},
     "output_type": "execute_result"
    }
   ],
   "source": [
    "lr_pipeline = joblib.load('lr_pipeline.pkl')\n",
    "lr_pipeline.score(X_test, y_test)"
   ]
  },
  {
   "cell_type": "code",
   "execution_count": 12,
   "metadata": {},
   "outputs": [
    {
     "data": {
      "text/plain": [
       "0.7006693702667894"
      ]
     },
     "execution_count": 12,
     "metadata": {},
     "output_type": "execute_result"
    }
   ],
   "source": [
    "rf_pipeline = joblib.load('rf_pipeline.pkl')\n",
    "rf_pipeline.score(X_test, y_test)"
   ]
  },
  {
   "cell_type": "code",
   "execution_count": 13,
   "metadata": {},
   "outputs": [
    {
     "data": {
      "text/plain": [
       "0.7064648830686"
      ]
     },
     "execution_count": 13,
     "metadata": {},
     "output_type": "execute_result"
    }
   ],
   "source": [
    "xgb_pipeline = joblib.load('xgb_pipeline.pkl')\n",
    "xgb_pipeline.score(X_test, y_test)"
   ]
  },
  {
   "cell_type": "code",
   "execution_count": 14,
   "metadata": {},
   "outputs": [
    {
     "data": {
      "text/plain": [
       "0.7802143985462244"
      ]
     },
     "execution_count": 14,
     "metadata": {},
     "output_type": "execute_result"
    }
   ],
   "source": [
    "lgb_pipeline = joblib.load('lgb_pipeline.pkl')\n",
    "lgb_pipeline.score(X_test, y_test)"
   ]
  },
  {
   "cell_type": "code",
   "execution_count": 15,
   "metadata": {},
   "outputs": [
    {
     "data": {
      "text/plain": [
       "0.7225343541994024"
      ]
     },
     "execution_count": 15,
     "metadata": {},
     "output_type": "execute_result"
    }
   ],
   "source": [
    "cbc_pipeline = joblib.load('cbc_pipeline.pkl')\n",
    "cbc_pipeline.score(X_test, y_test)"
   ]
  },
  {
   "cell_type": "code",
   "execution_count": 16,
   "metadata": {},
   "outputs": [
    {
     "data": {
      "text/plain": [
       "0.7675647176016038"
      ]
     },
     "execution_count": 16,
     "metadata": {},
     "output_type": "execute_result"
    }
   ],
   "source": [
    "svc_pipeline = joblib.load('svc_pipeline.pkl')\n",
    "svc_pipeline.score(X_test, y_test)"
   ]
  },
  {
   "cell_type": "code",
   "execution_count": null,
   "metadata": {},
   "outputs": [],
   "source": []
  },
  {
   "cell_type": "markdown",
   "metadata": {},
   "source": [
    "### Simple stacking "
   ]
  },
  {
   "cell_type": "code",
   "execution_count": 17,
   "metadata": {},
   "outputs": [],
   "source": [
    "def simple_stacking(models):\n",
    "    pred_total = 0\n",
    "    for model in models:\n",
    "        proba_model = model.predict_proba(X_test)\n",
    "        pred_model = proba_model[:, 1]\n",
    "        pred_total += pred_model\n",
    "    pred_final = np.round(pred_total/len(models))\n",
    "    return pred_final"
   ]
  },
  {
   "cell_type": "code",
   "execution_count": 23,
   "metadata": {},
   "outputs": [
    {
     "data": {
      "text/plain": [
       "array([[0.52868074, 0.47131926],\n",
       "       [0.48565643, 0.51434357],\n",
       "       [0.5063427 , 0.4936573 ],\n",
       "       ...,\n",
       "       [0.4872416 , 0.5127584 ],\n",
       "       [0.4917973 , 0.5082027 ],\n",
       "       [0.51477648, 0.48522352]])"
      ]
     },
     "execution_count": 23,
     "metadata": {},
     "output_type": "execute_result"
    }
   ],
   "source": [
    "rf_pipeline.predict_proba(X_test)"
   ]
  },
  {
   "cell_type": "code",
   "execution_count": null,
   "metadata": {},
   "outputs": [],
   "source": []
  },
  {
   "cell_type": "code",
   "execution_count": 27,
   "metadata": {},
   "outputs": [
    {
     "name": "stdout",
     "output_type": "stream",
     "text": [
      "0.7848345538434607\n"
     ]
    }
   ],
   "source": [
    "models = [lr_pipeline, nb_pipeline, \\\n",
    "          rf_pipeline, xgb_pipeline, lgb_pipeline, \\\n",
    "          cbc_pipeline]\n",
    "\n",
    "pred_final = simple_stacking(models)\n",
    "print(accuracy_score(pred_final, y_test))"
   ]
  },
  {
   "cell_type": "code",
   "execution_count": null,
   "metadata": {},
   "outputs": [],
   "source": []
  },
  {
   "cell_type": "markdown",
   "metadata": {},
   "source": [
    "### More advanced way of stacking "
   ]
  },
  {
   "cell_type": "code",
   "execution_count": 28,
   "metadata": {},
   "outputs": [],
   "source": [
    "def stacked_features(models):\n",
    "    hyper_X_train = []\n",
    "    hyper_X_test = []\n",
    "    for model in models:\n",
    "        proba_train = model.predict_proba(X_trainvalid)\n",
    "        proba_test = model.predict_proba(X_test)\n",
    "\n",
    "        hyper_X_train.append(proba_train[:,1])\n",
    "        hyper_X_test.append(proba_test[:,1])\n",
    "    hyper_X_train = np.transpose(hyper_X_train)\n",
    "    hyper_X_test = np.transpose(hyper_X_test)\n",
    "    return hyper_X_train, hyper_X_test"
   ]
  },
  {
   "cell_type": "code",
   "execution_count": 29,
   "metadata": {},
   "outputs": [],
   "source": [
    "hyper_X_train, hyper_X_test = stacked_features(models)"
   ]
  },
  {
   "cell_type": "code",
   "execution_count": 30,
   "metadata": {},
   "outputs": [
    {
     "data": {
      "text/plain": [
       "0.7874541006222726"
      ]
     },
     "execution_count": 30,
     "metadata": {},
     "output_type": "execute_result"
    }
   ],
   "source": [
    "lr2 = LogisticRegression()\n",
    "lr2.fit(hyper_X_train, y_trainvalid)\n",
    "lr2.score(hyper_X_test, y_test)"
   ]
  },
  {
   "cell_type": "code",
   "execution_count": 35,
   "metadata": {},
   "outputs": [],
   "source": [
    "import seaborn as sns"
   ]
  },
  {
   "cell_type": "code",
   "execution_count": 36,
   "metadata": {},
   "outputs": [
    {
     "data": {
      "image/png": "[encoded data removed]",
      "text/plain": [
       "<Figure size 432x288 with 1 Axes>"
      ]
     },
     "metadata": {
      "needs_background": "light"
     },
     "output_type": "display_data"
    }
   ],
   "source": [
    "y_pred = lr2.predict(hyper_X_test)\n",
    "\n",
    "sns.heatmap(confusion_matrix(y_test, y_pred), \n",
    "           xticklabels=['Negative', 'Positive'],\n",
    "           yticklabels=['Negative', 'Positive'],\n",
    "           linewidths=1,\n",
    "           cmap='cividis_r',\n",
    "           fmt='', \n",
    "           annot=True, \n",
    "           cbar=False, \n",
    "           square=True)\n",
    "plt.show()"
   ]
  },
  {
   "cell_type": "code",
   "execution_count": null,
   "metadata": {},
   "outputs": [],
   "source": []
  },
  {
   "cell_type": "markdown",
   "metadata": {},
   "source": [
    "# Future direction \n",
    "\n",
    "\n",
    "- Include NN in stacking\n",
    "\n",
    "- Include SVM in stacking. Have SVM calculating probability. Make it faster. \n",
    "\n",
    "- Train random forest and catBoost with larger dataset. \n",
    "\n",
    "- RNN for NLP \n",
    "\n",
    "- Hyperparameter tuning for the tree based models. \n",
    " "
   ]
  },
  {
   "cell_type": "code",
   "execution_count": null,
   "metadata": {},
   "outputs": [],
   "source": []
  }
 ],
 "metadata": {
  "kernelspec": {
   "display_name": "Python 3",
   "language": "python",
   "name": "python3"
  },
  "language_info": {
   "codemirror_mode": {
    "name": "ipython",
    "version": 3
   },
   "file_extension": ".py",
   "mimetype": "text/x-python",
   "name": "python",
   "nbconvert_exporter": "python",
   "pygments_lexer": "ipython3",
   "version": "3.7.7"
  }
 },
 "nbformat": 4,
 "nbformat_minor": 4
}
