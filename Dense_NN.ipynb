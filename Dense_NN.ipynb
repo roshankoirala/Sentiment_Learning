{
 "cells": [
  {
   "cell_type": "markdown",
   "metadata": {},
   "source": [
    "# Keras for the tweet sentiment"
   ]
  },
  {
   "cell_type": "markdown",
   "metadata": {},
   "source": [
    "Dataset used to make a model is found here: \n",
    "\n",
    "https://www.kaggle.com/kazanova/sentiment140"
   ]
  },
  {
   "cell_type": "code",
   "execution_count": 1,
   "metadata": {},
   "outputs": [
    {
     "name": "stderr",
     "output_type": "stream",
     "text": [
      "Using TensorFlow backend.\n"
     ]
    }
   ],
   "source": [
    "import numpy as np\n",
    "import pandas as pd\n",
    "import matplotlib.pyplot as plt\n",
    "\n",
    "from keras import models, layers, optimizers, losses, metrics\n",
    "# from keras.datasets import imdb"
   ]
  },
  {
   "cell_type": "code",
   "execution_count": 2,
   "metadata": {},
   "outputs": [],
   "source": [
    "from sklearn.model_selection import train_test_split, GridSearchCV, PredefinedSplit\n",
    "\n",
    "from sklearn.preprocessing import LabelEncoder\n",
    "from sklearn.feature_extraction.text import TfidfVectorizer, HashingVectorizer\n",
    "\n",
    "from sklearn.pipeline import Pipeline\n",
    "from sklearn.linear_model import LogisticRegression\n",
    "from sklearn.ensemble import RandomForestClassifier, StackingClassifier\n",
    "from sklearn.metrics import accuracy_score, confusion_matrix"
   ]
  },
  {
   "cell_type": "code",
   "execution_count": 3,
   "metadata": {},
   "outputs": [],
   "source": [
    "df = pd.read_csv('Tweet_sentiment_clean.csv', encoding='ISO-8859-1')"
   ]
  },
  {
   "cell_type": "code",
   "execution_count": 4,
   "metadata": {},
   "outputs": [
    {
     "data": {
      "text/html": [
       "<div>\n",
       "<style scoped>\n",
       "    .dataframe tbody tr th:only-of-type {\n",
       "        vertical-align: middle;\n",
       "    }\n",
       "\n",
       "    .dataframe tbody tr th {\n",
       "        vertical-align: top;\n",
       "    }\n",
       "\n",
       "    .dataframe thead th {\n",
       "        text-align: right;\n",
       "    }\n",
       "</style>\n",
       "<table border=\"1\" class=\"dataframe\">\n",
       "  <thead>\n",
       "    <tr style=\"text-align: right;\">\n",
       "      <th></th>\n",
       "      <th>sentiment</th>\n",
       "      <th>text</th>\n",
       "    </tr>\n",
       "  </thead>\n",
       "  <tbody>\n",
       "    <tr>\n",
       "      <th>0</th>\n",
       "      <td>0</td>\n",
       "      <td>user url aww that bummer shoulda got david car...</td>\n",
       "    </tr>\n",
       "    <tr>\n",
       "      <th>1</th>\n",
       "      <td>0</td>\n",
       "      <td>upset cant updat facebook text might cri resul...</td>\n",
       "    </tr>\n",
       "    <tr>\n",
       "      <th>2</th>\n",
       "      <td>0</td>\n",
       "      <td>user dive mani time ball manag save num rest g...</td>\n",
       "    </tr>\n",
       "    <tr>\n",
       "      <th>3</th>\n",
       "      <td>0</td>\n",
       "      <td>whole bodi feel itchi like fire</td>\n",
       "    </tr>\n",
       "    <tr>\n",
       "      <th>4</th>\n",
       "      <td>0</td>\n",
       "      <td>user behav im mad cant see</td>\n",
       "    </tr>\n",
       "  </tbody>\n",
       "</table>\n",
       "</div>"
      ],
      "text/plain": [
       "   sentiment                                               text\n",
       "0          0  user url aww that bummer shoulda got david car...\n",
       "1          0  upset cant updat facebook text might cri resul...\n",
       "2          0  user dive mani time ball manag save num rest g...\n",
       "3          0                    whole bodi feel itchi like fire\n",
       "4          0                         user behav im mad cant see"
      ]
     },
     "execution_count": 4,
     "metadata": {},
     "output_type": "execute_result"
    }
   ],
   "source": [
    "df.head()"
   ]
  },
  {
   "cell_type": "code",
   "execution_count": 5,
   "metadata": {},
   "outputs": [
    {
     "data": {
      "text/plain": [
       "4    799789\n",
       "0    799722\n",
       "Name: sentiment, dtype: int64"
      ]
     },
     "execution_count": 5,
     "metadata": {},
     "output_type": "execute_result"
    }
   ],
   "source": [
    "df['sentiment'].value_counts()"
   ]
  },
  {
   "cell_type": "code",
   "execution_count": 6,
   "metadata": {},
   "outputs": [
    {
     "name": "stdout",
     "output_type": "stream",
     "text": [
      "Good: \t happi charitytuesday user user user \n",
      " Bad: \t upset cant updat facebook text might cri result school today also blah \n",
      "\n",
      "Good: \t happi numth birthday boo time tupac amaru shakur \n",
      " Bad: \t user dive mani time ball manag save num rest go bound \n",
      "\n",
      "Good: \t readi mojo makeov ask detail \n",
      " Bad: \t whole bodi feel itchi like fire \n",
      "\n",
      "Good: \t thewdbcom cool hear old walt interview url \n",
      " Bad: \t user behav im mad cant see \n",
      "\n",
      "Good: \t woke school best feel ever \n",
      " Bad: \t user whole crew \n",
      "\n"
     ]
    }
   ],
   "source": [
    "for i in range(1, 6):\n",
    "    print('Good: \\t', df['text'].iloc[-i], '\\n', \n",
    "         'Bad: \\t', df['text'].iloc[i], '\\n')"
   ]
  },
  {
   "cell_type": "code",
   "execution_count": 7,
   "metadata": {},
   "outputs": [],
   "source": [
    "# sample_size = 700000\n",
    "# df1 = pd.concat([df.head(sample_size), df.tail(sample_size)])"
   ]
  },
  {
   "cell_type": "code",
   "execution_count": 8,
   "metadata": {},
   "outputs": [],
   "source": [
    "X = df['text']\n",
    "y = df['sentiment']"
   ]
  },
  {
   "cell_type": "code",
   "execution_count": 9,
   "metadata": {},
   "outputs": [],
   "source": [
    "encoder = LabelEncoder()\n",
    "\n",
    "y = encoder.fit_transform(y)"
   ]
  },
  {
   "cell_type": "code",
   "execution_count": 10,
   "metadata": {},
   "outputs": [
    {
     "name": "stdout",
     "output_type": "stream",
     "text": [
      "Train data size: \t 783759 \n",
      "Validation data size: \t 335898 \n",
      "Test data size: \t 479854\n"
     ]
    }
   ],
   "source": [
    "X_trainvalid, X_test, y_trainvalid, y_test = train_test_split(X, y, test_size=0.3)\n",
    "X_train, X_valid, y_train, y_valid = train_test_split(X_trainvalid, y_trainvalid, test_size=0.3)\n",
    "\n",
    "print('Train data size: \\t', X_train.shape[0], \n",
    "      '\\nValidation data size: \\t', X_valid.shape[0], \n",
    "      '\\nTest data size: \\t', X_test.shape[0])\n",
    "\n",
    "test_fold = [0 if x in X_valid.index else -1 for x in X_trainvalid.index]\n",
    "\n",
    "ps = PredefinedSplit(test_fold)"
   ]
  },
  {
   "cell_type": "code",
   "execution_count": null,
   "metadata": {},
   "outputs": [],
   "source": []
  },
  {
   "cell_type": "code",
   "execution_count": null,
   "metadata": {},
   "outputs": [],
   "source": []
  },
  {
   "cell_type": "code",
   "execution_count": 11,
   "metadata": {},
   "outputs": [],
   "source": [
    "vector = TfidfVectorizer(max_features=5000)\n",
    "X_train_v = vector.fit_transform(X_train)\n",
    "X_valid_v = vector.transform(X_valid)\n",
    "X_test_v = vector.transform(X_test)"
   ]
  },
  {
   "cell_type": "code",
   "execution_count": 12,
   "metadata": {},
   "outputs": [
    {
     "name": "stdout",
     "output_type": "stream",
     "text": [
      "(783759, 5000)\n",
      "(479854, 5000)\n"
     ]
    }
   ],
   "source": [
    "print(X_train_v.shape)\n",
    "print(X_test_v.shape)"
   ]
  },
  {
   "cell_type": "code",
   "execution_count": 13,
   "metadata": {},
   "outputs": [
    {
     "name": "stdout",
     "output_type": "stream",
     "text": [
      "(783759,)\n",
      "(479854,)\n"
     ]
    }
   ],
   "source": [
    "print(y_train.shape)\n",
    "print(y_test.shape)"
   ]
  },
  {
   "cell_type": "code",
   "execution_count": 14,
   "metadata": {},
   "outputs": [
    {
     "data": {
      "text/plain": [
       "5000"
      ]
     },
     "execution_count": 14,
     "metadata": {},
     "output_type": "execute_result"
    }
   ],
   "source": [
    "X_train_v.shape[1]"
   ]
  },
  {
   "cell_type": "code",
   "execution_count": null,
   "metadata": {},
   "outputs": [],
   "source": []
  },
  {
   "cell_type": "markdown",
   "metadata": {},
   "source": [
    "## Building and training model "
   ]
  },
  {
   "cell_type": "code",
   "execution_count": 15,
   "metadata": {},
   "outputs": [],
   "source": [
    "model = models.Sequential()\n",
    "model.add(layers.Dense(16, activation= 'relu', input_shape = (X_train_v.shape[1], )))\n",
    "model.add(layers.Dense(16, activation= 'relu'))\n",
    "model.add(layers.Dense(1, activation= 'sigmoid'))"
   ]
  },
  {
   "cell_type": "code",
   "execution_count": 16,
   "metadata": {},
   "outputs": [],
   "source": [
    "model.compile(optimizer = optimizers.RMSprop(lr=0.0003), \n",
    "             loss = losses.binary_crossentropy, \n",
    "             metrics = [metrics.binary_accuracy])"
   ]
  },
  {
   "cell_type": "code",
   "execution_count": 17,
   "metadata": {},
   "outputs": [
    {
     "name": "stdout",
     "output_type": "stream",
     "text": [
      "Train on 783759 samples, validate on 335898 samples\n",
      "Epoch 1/50\n",
      "783759/783759 [==============================] - 80s 102us/step - loss: 0.5140 - binary_accuracy: 0.7580 - val_loss: 0.4767 - val_binary_accuracy: 0.7722\n",
      "Epoch 2/50\n",
      "783759/783759 [==============================] - 70s 90us/step - loss: 0.4718 - binary_accuracy: 0.7756 - val_loss: 0.4734 - val_binary_accuracy: 0.7735\n",
      "Epoch 3/50\n",
      "783759/783759 [==============================] - 70s 90us/step - loss: 0.4673 - binary_accuracy: 0.7775 - val_loss: 0.4705 - val_binary_accuracy: 0.7755\n",
      "Epoch 4/50\n",
      "783759/783759 [==============================] - 71s 90us/step - loss: 0.4647 - binary_accuracy: 0.7792 - val_loss: 0.4695 - val_binary_accuracy: 0.7761\n",
      "Epoch 5/50\n",
      "783759/783759 [==============================] - 71s 90us/step - loss: 0.4634 - binary_accuracy: 0.7803 - val_loss: 0.4691 - val_binary_accuracy: 0.7764\n",
      "Epoch 6/50\n",
      "783759/783759 [==============================] - 71s 90us/step - loss: 0.4625 - binary_accuracy: 0.7810 - val_loss: 0.4687 - val_binary_accuracy: 0.7770\n",
      "Epoch 7/50\n",
      "783759/783759 [==============================] - 70s 89us/step - loss: 0.4618 - binary_accuracy: 0.7819 - val_loss: 0.4683 - val_binary_accuracy: 0.7772\n",
      "Epoch 8/50\n",
      "783759/783759 [==============================] - 71s 90us/step - loss: 0.4609 - binary_accuracy: 0.7824 - val_loss: 0.4677 - val_binary_accuracy: 0.7779\n",
      "Epoch 9/50\n",
      "783759/783759 [==============================] - 70s 90us/step - loss: 0.4598 - binary_accuracy: 0.7831 - val_loss: 0.4671 - val_binary_accuracy: 0.7782\n",
      "Epoch 10/50\n",
      "783759/783759 [==============================] - 75s 95us/step - loss: 0.4589 - binary_accuracy: 0.7838 - val_loss: 0.4664 - val_binary_accuracy: 0.7785\n",
      "Epoch 11/50\n",
      "783759/783759 [==============================] - 72s 92us/step - loss: 0.4578 - binary_accuracy: 0.7845 - val_loss: 0.4659 - val_binary_accuracy: 0.7790\n",
      "Epoch 12/50\n",
      "783759/783759 [==============================] - 71s 91us/step - loss: 0.4568 - binary_accuracy: 0.7851 - val_loss: 0.4653 - val_binary_accuracy: 0.7794\n",
      "Epoch 13/50\n",
      "783759/783759 [==============================] - 72s 92us/step - loss: 0.4559 - binary_accuracy: 0.7856 - val_loss: 0.4651 - val_binary_accuracy: 0.7798\n",
      "Epoch 14/50\n",
      "783759/783759 [==============================] - 72s 92us/step - loss: 0.4550 - binary_accuracy: 0.7860 - val_loss: 0.4649 - val_binary_accuracy: 0.7797\n",
      "Epoch 15/50\n",
      "783759/783759 [==============================] - 71s 90us/step - loss: 0.4544 - binary_accuracy: 0.7866 - val_loss: 0.4653 - val_binary_accuracy: 0.7797\n",
      "Epoch 16/50\n",
      "783759/783759 [==============================] - 71s 91us/step - loss: 0.4538 - binary_accuracy: 0.7869 - val_loss: 0.4651 - val_binary_accuracy: 0.7795\n",
      "Epoch 17/50\n",
      "783759/783759 [==============================] - 71s 90us/step - loss: 0.4533 - binary_accuracy: 0.7872 - val_loss: 0.4650 - val_binary_accuracy: 0.7795\n",
      "Epoch 18/50\n",
      "783759/783759 [==============================] - 75s 96us/step - loss: 0.4527 - binary_accuracy: 0.7874 - val_loss: 0.4653 - val_binary_accuracy: 0.7795\n",
      "Epoch 19/50\n",
      "783759/783759 [==============================] - 70s 90us/step - loss: 0.4523 - binary_accuracy: 0.7879 - val_loss: 0.4653 - val_binary_accuracy: 0.7794\n",
      "Epoch 20/50\n",
      "783759/783759 [==============================] - 70s 89us/step - loss: 0.4518 - binary_accuracy: 0.7881 - val_loss: 0.4653 - val_binary_accuracy: 0.7794\n",
      "Epoch 21/50\n",
      "783759/783759 [==============================] - 71s 90us/step - loss: 0.4513 - binary_accuracy: 0.7883 - val_loss: 0.4656 - val_binary_accuracy: 0.7793\n",
      "Epoch 22/50\n",
      "783759/783759 [==============================] - 65s 83us/step - loss: 0.4508 - binary_accuracy: 0.7887 - val_loss: 0.4656 - val_binary_accuracy: 0.7793\n",
      "Epoch 23/50\n",
      "783759/783759 [==============================] - 84s 107us/step - loss: 0.4504 - binary_accuracy: 0.7890 - val_loss: 0.4655 - val_binary_accuracy: 0.7792\n",
      "Epoch 24/50\n",
      "783759/783759 [==============================] - 69s 88us/step - loss: 0.4500 - binary_accuracy: 0.7894 - val_loss: 0.4658 - val_binary_accuracy: 0.7793\n",
      "Epoch 25/50\n",
      "783759/783759 [==============================] - 74s 95us/step - loss: 0.4497 - binary_accuracy: 0.7895 - val_loss: 0.4659 - val_binary_accuracy: 0.7793\n",
      "Epoch 26/50\n",
      "783759/783759 [==============================] - 68s 87us/step - loss: 0.4493 - binary_accuracy: 0.7898 - val_loss: 0.4660 - val_binary_accuracy: 0.7795\n",
      "Epoch 27/50\n",
      "783759/783759 [==============================] - 77s 98us/step - loss: 0.4490 - binary_accuracy: 0.7901 - val_loss: 0.4665 - val_binary_accuracy: 0.7798\n",
      "Epoch 28/50\n",
      "783759/783759 [==============================] - 90s 114us/step - loss: 0.4486 - binary_accuracy: 0.7903 - val_loss: 0.4662 - val_binary_accuracy: 0.7797\n",
      "Epoch 29/50\n",
      "783759/783759 [==============================] - 81s 103us/step - loss: 0.4483 - binary_accuracy: 0.7907 - val_loss: 0.4662 - val_binary_accuracy: 0.7795\n",
      "Epoch 30/50\n",
      "783759/783759 [==============================] - 71s 91us/step - loss: 0.4480 - binary_accuracy: 0.7910 - val_loss: 0.4665 - val_binary_accuracy: 0.7797\n",
      "Epoch 31/50\n",
      "783759/783759 [==============================] - 71s 91us/step - loss: 0.4476 - binary_accuracy: 0.7912 - val_loss: 0.4663 - val_binary_accuracy: 0.7797\n",
      "Epoch 32/50\n",
      "783759/783759 [==============================] - 72s 92us/step - loss: 0.4472 - binary_accuracy: 0.7914 - val_loss: 0.4663 - val_binary_accuracy: 0.7796\n",
      "Epoch 33/50\n",
      "783759/783759 [==============================] - 67s 85us/step - loss: 0.4469 - binary_accuracy: 0.7915 - val_loss: 0.4662 - val_binary_accuracy: 0.7797.4469 - binary_accuracy: 0\n",
      "Epoch 34/50\n",
      "783759/783759 [==============================] - 64s 82us/step - loss: 0.4465 - binary_accuracy: 0.7917 - val_loss: 0.4662 - val_binary_accuracy: 0.7796\n",
      "Epoch 35/50\n",
      "783759/783759 [==============================] - 68s 86us/step - loss: 0.4462 - binary_accuracy: 0.7921 - val_loss: 0.4663 - val_binary_accuracy: 0.7800\n",
      "Epoch 36/50\n",
      "783759/783759 [==============================] - 72s 92us/step - loss: 0.4458 - binary_accuracy: 0.7921 - val_loss: 0.4666 - val_binary_accuracy: 0.7794\n",
      "Epoch 37/50\n",
      "783759/783759 [==============================] - 73s 93us/step - loss: 0.4455 - binary_accuracy: 0.7924 - val_loss: 0.4662 - val_binary_accuracy: 0.7795\n",
      "Epoch 38/50\n",
      "783759/783759 [==============================] - 73s 94us/step - loss: 0.4453 - binary_accuracy: 0.7927 - val_loss: 0.4665 - val_binary_accuracy: 0.7793\n",
      "Epoch 39/50\n",
      "783759/783759 [==============================] - 73s 93us/step - loss: 0.4450 - binary_accuracy: 0.7927 - val_loss: 0.4668 - val_binary_accuracy: 0.7795\n",
      "Epoch 40/50\n",
      "783759/783759 [==============================] - 69s 88us/step - loss: 0.4448 - binary_accuracy: 0.7928 - val_loss: 0.4669 - val_binary_accuracy: 0.7793\n",
      "Epoch 41/50\n",
      "783759/783759 [==============================] - 73s 93us/step - loss: 0.4445 - binary_accuracy: 0.7931 - val_loss: 0.4669 - val_binary_accuracy: 0.7794\n",
      "Epoch 42/50\n",
      "783759/783759 [==============================] - 73s 93us/step - loss: 0.4443 - binary_accuracy: 0.7931 - val_loss: 0.4669 - val_binary_accuracy: 0.7789\n",
      "Epoch 43/50\n",
      "783759/783759 [==============================] - 79s 100us/step - loss: 0.4441 - binary_accuracy: 0.7933 - val_loss: 0.4669 - val_binary_accuracy: 0.7792\n",
      "Epoch 44/50\n",
      "783759/783759 [==============================] - 74s 95us/step - loss: 0.4439 - binary_accuracy: 0.7934 - val_loss: 0.4674 - val_binary_accuracy: 0.7787\n",
      "Epoch 45/50\n",
      "783759/783759 [==============================] - 74s 95us/step - loss: 0.4437 - binary_accuracy: 0.7936 - val_loss: 0.4675 - val_binary_accuracy: 0.7790\n",
      "Epoch 46/50\n",
      "783759/783759 [==============================] - 74s 95us/step - loss: 0.4435 - binary_accuracy: 0.7938 - val_loss: 0.4677 - val_binary_accuracy: 0.7785\n",
      "Epoch 47/50\n",
      "783759/783759 [==============================] - 75s 95us/step - loss: 0.4434 - binary_accuracy: 0.7938 - val_loss: 0.4675 - val_binary_accuracy: 0.7786\n",
      "Epoch 48/50\n",
      "783759/783759 [==============================] - 67s 85us/step - loss: 0.4432 - binary_accuracy: 0.7940 - val_loss: 0.4678 - val_binary_accuracy: 0.7787\n",
      "Epoch 49/50\n",
      "783759/783759 [==============================] - 76s 97us/step - loss: 0.4430 - binary_accuracy: 0.7942 - val_loss: 0.4676 - val_binary_accuracy: 0.7790\n",
      "Epoch 50/50\n",
      "783759/783759 [==============================] - 70s 89us/step - loss: 0.4429 - binary_accuracy: 0.7944 - val_loss: 0.4679 - val_binary_accuracy: 0.7789\n"
     ]
    }
   ],
   "source": [
    "history = model.fit(X_train_v, y_train, \n",
    "                   epochs = 50, \n",
    "                   batch_size = 256, \n",
    "                   validation_data=(X_valid_v, y_valid),\n",
    "#                     validation_split=0.3,\n",
    "                   verbose = True)"
   ]
  },
  {
   "cell_type": "code",
   "execution_count": 18,
   "metadata": {},
   "outputs": [],
   "source": [
    "model.save('sentiment.h5')"
   ]
  },
  {
   "cell_type": "markdown",
   "metadata": {},
   "source": [
    "For 200000 sample size: learning rate = 0.0003, batch size = 215, max_feature = 2000  accuracy crosses 77% \n",
    "\n",
    "For 700000 sample size: learning rate = 0.0003, batch size = 215, max_feature = 2000  accuracy crosses 77.2%  was improving\n",
    "\n",
    "For 700000 sample size: learning rate = 0.0003, batch size = 215, max_feature = 5000  accuracy crosses 78%\n",
    "\n",
    "For 700000 sample size: learning rate = 0.0003, batch size = 215, max_feature = 5000  accuracy crosses ?????\n",
    "\n",
    "For 700000 sample size: learning rate = 0.0003 don't use smaller learnig rate than this \n",
    "\n",
    "\n",
    "# Training on a small batch is mutch solowe than training on the larger batch. This contradicts what others are saying. Is this strange?\n",
    "\n",
    "- Use drop out layer "
   ]
  },
  {
   "cell_type": "code",
   "execution_count": null,
   "metadata": {},
   "outputs": [],
   "source": []
  },
  {
   "cell_type": "code",
   "execution_count": 21,
   "metadata": {},
   "outputs": [
    {
     "data": {
      "image/png": "[encoded data removed]",
      "text/plain": [
       "<Figure size 576x360 with 1 Axes>"
      ]
     },
     "metadata": {
      "needs_background": "light"
     },
     "output_type": "display_data"
    }
   ],
   "source": [
    "history_dict = history.history\n",
    "epoches = range(1, 1 + 50)\n",
    "\n",
    "acc_training = history_dict['binary_accuracy']\n",
    "acc_validation = history_dict['val_binary_accuracy']\n",
    "\n",
    "plt.figure(figsize=(8, 5))\n",
    "plt.plot(epoches, acc_training, 'rx')\n",
    "plt.plot(epoches, acc_validation, 'b^')\n",
    "plt.legend(['Training Accuracy', 'Validation Accuracy'])\n",
    "plt.xlabel('Epoches')\n",
    "plt.ylabel('Loss')\n",
    "plt.show()"
   ]
  },
  {
   "cell_type": "code",
   "execution_count": 22,
   "metadata": {},
   "outputs": [
    {
     "data": {
      "image/png": "[encoded data removed]",
      "text/plain": [
       "<Figure size 576x360 with 1 Axes>"
      ]
     },
     "metadata": {
      "needs_background": "light"
     },
     "output_type": "display_data"
    }
   ],
   "source": [
    "history_dict = history.history\n",
    "epoches = range(1, 1 + 50)\n",
    "\n",
    "loss_training = history_dict['loss']\n",
    "loss_validation = history_dict['val_loss']\n",
    "\n",
    "plt.figure(figsize=(8, 5))\n",
    "plt.plot(epoches, loss_training, 'rx')\n",
    "plt.plot(epoches, loss_validation, 'b^')\n",
    "plt.legend(['Training Loss', 'Validation Loss'])\n",
    "plt.xlabel('Epoches')\n",
    "plt.ylabel('Loss')\n",
    "plt.show()"
   ]
  },
  {
   "cell_type": "code",
   "execution_count": null,
   "metadata": {},
   "outputs": [],
   "source": []
  },
  {
   "cell_type": "markdown",
   "metadata": {},
   "source": [
    "# Further analysis "
   ]
  },
  {
   "cell_type": "code",
   "execution_count": 15,
   "metadata": {},
   "outputs": [],
   "source": [
    "from tensorflow.keras.models import load_model"
   ]
  },
  {
   "cell_type": "code",
   "execution_count": 16,
   "metadata": {},
   "outputs": [],
   "source": [
    "model_1 = load_model('sentiment.h5')"
   ]
  },
  {
   "cell_type": "code",
   "execution_count": null,
   "metadata": {},
   "outputs": [],
   "source": []
  },
  {
   "cell_type": "code",
   "execution_count": null,
   "metadata": {},
   "outputs": [],
   "source": []
  },
  {
   "cell_type": "code",
   "execution_count": 17,
   "metadata": {},
   "outputs": [],
   "source": [
    "confidence = model_1.predict(X_valid_v.todense())"
   ]
  },
  {
   "cell_type": "code",
   "execution_count": 18,
   "metadata": {},
   "outputs": [
    {
     "data": {
      "image/png": "[encoded data removed]",
      "text/plain": [
       "<Figure size 432x288 with 1 Axes>"
      ]
     },
     "metadata": {
      "needs_background": "light"
     },
     "output_type": "display_data"
    }
   ],
   "source": [
    "plt.hist(confidence, bins=20, rwidth=0.9)\n",
    "plt.show()"
   ]
  },
  {
   "cell_type": "code",
   "execution_count": 55,
   "metadata": {},
   "outputs": [],
   "source": [
    "# X_test_v.todense()"
   ]
  },
  {
   "cell_type": "code",
   "execution_count": 21,
   "metadata": {},
   "outputs": [
    {
     "name": "stdout",
     "output_type": "stream",
     "text": [
      "479854/479854 [==============================] - 202s 422us/sample - loss: 0.8068 - binary_accuracy: 0.5449\n"
     ]
    }
   ],
   "source": [
    "results = model_1.evaluate(X_test_v.todense(), y_test)"
   ]
  },
  {
   "cell_type": "code",
   "execution_count": 22,
   "metadata": {},
   "outputs": [
    {
     "data": {
      "text/plain": [
       "[0.8068312919842368, 0.54494286]"
      ]
     },
     "execution_count": 22,
     "metadata": {},
     "output_type": "execute_result"
    }
   ],
   "source": [
    "results"
   ]
  },
  {
   "cell_type": "markdown",
   "metadata": {},
   "source": [
    "- There is something wrong with converting to todense(). "
   ]
  },
  {
   "cell_type": "markdown",
   "metadata": {},
   "source": [
    "# Train neural network on Simple matrix\n",
    "\n",
    "- No tfidf \n",
    "\n",
    "- Try ensemble on movie review data?"
   ]
  },
  {
   "cell_type": "code",
   "execution_count": null,
   "metadata": {},
   "outputs": [],
   "source": []
  }
 ],
 "metadata": {
  "kernelspec": {
   "display_name": "Python 3",
   "language": "python",
   "name": "python3"
  },
  "language_info": {
   "codemirror_mode": {
    "name": "ipython",
    "version": 3
   },
   "file_extension": ".py",
   "mimetype": "text/x-python",
   "name": "python",
   "nbconvert_exporter": "python",
   "pygments_lexer": "ipython3",
   "version": "3.7.7"
  }
 },
 "nbformat": 4,
 "nbformat_minor": 4
}
